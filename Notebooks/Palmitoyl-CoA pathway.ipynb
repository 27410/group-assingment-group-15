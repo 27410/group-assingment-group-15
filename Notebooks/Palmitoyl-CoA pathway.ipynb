{
 "cells": [
  {
   "cell_type": "code",
   "execution_count": 10,
   "id": "c520585f-8d15-482b-94f1-35010a75761a",
   "metadata": {},
   "outputs": [
    {
     "data": {
      "text/html": [
       "\n",
       "        <table>\n",
       "            <tr>\n",
       "                <td><strong>Name</strong></td>\n",
       "                <td>iML1515</td>\n",
       "            </tr><tr>\n",
       "                <td><strong>Memory address</strong></td>\n",
       "                <td>25ae2dfbd60</td>\n",
       "            </tr><tr>\n",
       "                <td><strong>Number of metabolites</strong></td>\n",
       "                <td>1877</td>\n",
       "            </tr><tr>\n",
       "                <td><strong>Number of reactions</strong></td>\n",
       "                <td>2712</td>\n",
       "            </tr><tr>\n",
       "                <td><strong>Number of genes</strong></td>\n",
       "                <td>1516</td>\n",
       "            </tr><tr>\n",
       "                <td><strong>Number of groups</strong></td>\n",
       "                <td>0</td>\n",
       "            </tr><tr>\n",
       "                <td><strong>Objective expression</strong></td>\n",
       "                <td>1.0*BIOMASS_Ec_iML1515_core_75p37M - 1.0*BIOMASS_Ec_iML1515_core_75p37M_reverse_35685</td>\n",
       "            </tr><tr>\n",
       "                <td><strong>Compartments</strong></td>\n",
       "                <td>cytosol, extracellular space, periplasm</td>\n",
       "            </tr>\n",
       "          </table>"
      ],
      "text/plain": [
       "<Model iML1515 at 0x25ae2dfbd60>"
      ]
     },
     "execution_count": 10,
     "metadata": {},
     "output_type": "execute_result"
    }
   ],
   "source": [
    "import pandas as pd\n",
    "from cobra.io import read_sbml_model\n",
    "from cobra import Reaction, Metabolite\n",
    "%matplotlib inline\n",
    "import numpy as np\n",
    "model = read_sbml_model('iML1515.xml')\n",
    "model"
   ]
  },
  {
   "cell_type": "code",
   "execution_count": 11,
   "id": "b87c5005",
   "metadata": {},
   "outputs": [],
   "source": [
    "#Creation and addition of biodiesel metabolite in the iML1515 model"
   ]
  },
  {
   "cell_type": "code",
   "execution_count": 12,
   "id": "1a302b05-8071-457f-9f3a-b9cf367b810c",
   "metadata": {},
   "outputs": [],
   "source": [
    "biodiesel = Metabolite(id='faee', compartment='c', name='biodiesel', formula='')"
   ]
  },
  {
   "cell_type": "code",
   "execution_count": 13,
   "id": "7e9eece8-7160-43bf-8bb6-abf273211391",
   "metadata": {},
   "outputs": [],
   "source": [
    "model.add_metabolites([biodiesel])"
   ]
  },
  {
   "cell_type": "code",
   "execution_count": 14,
   "id": "456b3884",
   "metadata": {},
   "outputs": [
    {
     "data": {
      "text/html": [
       "\n",
       "        <table>\n",
       "            <tr>\n",
       "                <td><strong>Name</strong></td>\n",
       "                <td>iML1515</td>\n",
       "            </tr><tr>\n",
       "                <td><strong>Memory address</strong></td>\n",
       "                <td>25ae2dfbd60</td>\n",
       "            </tr><tr>\n",
       "                <td><strong>Number of metabolites</strong></td>\n",
       "                <td>1878</td>\n",
       "            </tr><tr>\n",
       "                <td><strong>Number of reactions</strong></td>\n",
       "                <td>2712</td>\n",
       "            </tr><tr>\n",
       "                <td><strong>Number of genes</strong></td>\n",
       "                <td>1516</td>\n",
       "            </tr><tr>\n",
       "                <td><strong>Number of groups</strong></td>\n",
       "                <td>0</td>\n",
       "            </tr><tr>\n",
       "                <td><strong>Objective expression</strong></td>\n",
       "                <td>1.0*BIOMASS_Ec_iML1515_core_75p37M - 1.0*BIOMASS_Ec_iML1515_core_75p37M_reverse_35685</td>\n",
       "            </tr><tr>\n",
       "                <td><strong>Compartments</strong></td>\n",
       "                <td>cytosol, extracellular space, periplasm</td>\n",
       "            </tr>\n",
       "          </table>"
      ],
      "text/plain": [
       "<Model iML1515 at 0x25ae2dfbd60>"
      ]
     },
     "execution_count": 14,
     "metadata": {},
     "output_type": "execute_result"
    }
   ],
   "source": [
    "model"
   ]
  },
  {
   "cell_type": "code",
   "execution_count": 15,
   "id": "1d3c4686",
   "metadata": {},
   "outputs": [],
   "source": [
    "#Creation and addition of diacylglycerol acyltransferase in the model.\n",
    "#This reaction is responsible for the production of Biodiesel."
   ]
  },
  {
   "cell_type": "markdown",
   "metadata": {},
   "source": [
    "### Pathway: Glucose → Palmitoyl-CoA → FAEE\n",
    "#### Substrate: Glucose\n",
    "#### Product: Palmitoyl-CoA"
   ]
  },
  {
   "cell_type": "code",
   "execution_count": 16,
   "id": "abea7bfb",
   "metadata": {},
   "outputs": [],
   "source": [
    "from cobra import Metabolite, Reaction\n",
    "\n",
    "diacylglycerol_acyltransferase = Reaction('WS_DGAT')\n",
    "diacylglycerol_acyltransferase.add_metabolites({model.metabolites.etoh_c: -1, \n",
    "model.metabolites.pmtcoa_c: -1, biodiesel: 1\n",
    "})\n",
    "model.add_reactions([diacylglycerol_acyltransferase])\n",
    "\n",
    "model.add_boundary(model.metabolites.faee, type='demand');\n",
    "model.add_boundary(model.metabolites.pmtcoa_c, type='demand');\n",
    "model.add_boundary(model.metabolites.etoh_c, type='demand');\n",
    "model.add_boundary(model.metabolites.acald_c, type='demand');"
   ]
  },
  {
   "cell_type": "code",
   "execution_count": 17,
   "id": "98442d7e",
   "metadata": {},
   "outputs": [
    {
     "data": {
      "text/html": [
       "\n",
       "        <table>\n",
       "            <tr>\n",
       "                <td><strong>Name</strong></td>\n",
       "                <td>iML1515</td>\n",
       "            </tr><tr>\n",
       "                <td><strong>Memory address</strong></td>\n",
       "                <td>25ae2dfbd60</td>\n",
       "            </tr><tr>\n",
       "                <td><strong>Number of metabolites</strong></td>\n",
       "                <td>1878</td>\n",
       "            </tr><tr>\n",
       "                <td><strong>Number of reactions</strong></td>\n",
       "                <td>2717</td>\n",
       "            </tr><tr>\n",
       "                <td><strong>Number of genes</strong></td>\n",
       "                <td>1516</td>\n",
       "            </tr><tr>\n",
       "                <td><strong>Number of groups</strong></td>\n",
       "                <td>0</td>\n",
       "            </tr><tr>\n",
       "                <td><strong>Objective expression</strong></td>\n",
       "                <td>1.0*BIOMASS_Ec_iML1515_core_75p37M - 1.0*BIOMASS_Ec_iML1515_core_75p37M_reverse_35685</td>\n",
       "            </tr><tr>\n",
       "                <td><strong>Compartments</strong></td>\n",
       "                <td>cytosol, extracellular space, periplasm</td>\n",
       "            </tr>\n",
       "          </table>"
      ],
      "text/plain": [
       "<Model iML1515 at 0x25ae2dfbd60>"
      ]
     },
     "execution_count": 17,
     "metadata": {},
     "output_type": "execute_result"
    }
   ],
   "source": [
    "model"
   ]
  },
  {
   "cell_type": "code",
   "execution_count": 20,
   "metadata": {},
   "outputs": [
    {
     "name": "stdout",
     "output_type": "stream",
     "text": [
      "max. faee production [mmol gDW^-1 h^-1]: 1.1075633958103637\n",
      "max. theoretical yield [mmol-put / mmol-glc]: 0.11075633958103637\n"
     ]
    }
   ],
   "source": [
    "with model:\n",
    "    model.objective = model.reactions.DM_faee\n",
    "    lets_produce_faee = model.optimize().objective_value\n",
    "\n",
    "theor_yield = lets_produce_faee / (-1*model.reactions.EX_glc__D_e.flux)\n",
    "print(\"max. faee production [mmol gDW^-1 h^-1]:\", lets_produce_faee)\n",
    "print(\"max. theoretical yield [mmol-put / mmol-glc]:\", theor_yield )"
   ]
  }
 ],
 "metadata": {
  "kernelspec": {
   "display_name": "Python 3 (ipykernel)",
   "language": "python",
   "name": "python3"
  },
  "language_info": {
   "codemirror_mode": {
    "name": "ipython",
    "version": 3
   },
   "file_extension": ".py",
   "mimetype": "text/x-python",
   "name": "python",
   "nbconvert_exporter": "python",
   "pygments_lexer": "ipython3",
   "version": "3.9.1"
  }
 },
 "nbformat": 4,
 "nbformat_minor": 5
}
