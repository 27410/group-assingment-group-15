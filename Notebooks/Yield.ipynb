{
 "cells": [
  {
   "cell_type": "code",
   "execution_count": 33,
   "metadata": {},
   "outputs": [],
   "source": [
    "%run model_01.ipynb"
   ]
  },
  {
   "cell_type": "code",
   "execution_count": 34,
   "metadata": {},
   "outputs": [
    {
     "data": {
      "text/plain": [
       "1.05233605698722"
      ]
     },
     "execution_count": 34,
     "metadata": {},
     "output_type": "execute_result"
    }
   ],
   "source": [
    "with model:\n",
    "    model.objective = model.reactions.DM_faee\n",
    "    lets_produce_faee = model.optimize().objective_value\n",
    "lets_produce_faee"
   ]
  },
  {
   "cell_type": "code",
   "execution_count": 36,
   "metadata": {},
   "outputs": [
    {
     "name": "stdout",
     "output_type": "stream",
     "text": [
      "max. faee production [mmol gDW^-1 h^-1]: 1.05233605698722\n",
      "max. theoretical yield [mmol-put / mmol-glc]: 0.105233605698722\n"
     ]
    }
   ],
   "source": [
    "theor_yield = lets_produce_faee / (-1*model.reactions.EX_glc__D_e.flux)\n",
    "print(\"max. faee production [mmol gDW^-1 h^-1]:\", lets_produce_faee)\n",
    "print(\"max. theoretical yield [mmol-put / mmol-glc]:\", theor_yield)"
   ]
  }
 ],
 "metadata": {
  "kernelspec": {
   "display_name": "Python 3",
   "language": "python",
   "name": "python3"
  },
  "language_info": {
   "codemirror_mode": {
    "name": "ipython",
    "version": 3
   },
   "file_extension": ".py",
   "mimetype": "text/x-python",
   "name": "python",
   "nbconvert_exporter": "python",
   "pygments_lexer": "ipython3",
   "version": "3.10.11"
  }
 },
 "nbformat": 4,
 "nbformat_minor": 2
}
