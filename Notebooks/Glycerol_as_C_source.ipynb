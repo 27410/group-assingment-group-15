{
 "cells": [
  {
   "cell_type": "code",
   "execution_count": 2,
   "metadata": {},
   "outputs": [],
   "source": [
    "%run model_01.ipynb"
   ]
  },
  {
   "cell_type": "markdown",
   "metadata": {},
   "source": [
    "### Pathway: Glycerol → Stearoyl-CoA → FAEE\n",
    "#### Substrate: Glycerol\n",
    "#### Product: Stearoyl-CoA\n",
    "#### Enzymes/Steps Involved:\n",
    "#### Glycerol is converted to dihydroxyacetone phosphate (DHAP) and enters glycolysis. Subsequent steps are as described in Pathway 1, leading to the formation of Stearoyl-CoA and its esterification to FAEE."
   ]
  },
  {
   "cell_type": "code",
   "execution_count": 3,
   "metadata": {},
   "outputs": [],
   "source": [
    "# Find the reaction for glycerol uptake (assuming it's already in the model)\n",
    "glycerol_rxn = model.reactions.get_by_id(\"EX_glyc_e\")"
   ]
  },
  {
   "cell_type": "code",
   "execution_count": 4,
   "metadata": {},
   "outputs": [],
   "source": [
    "# Disable uptake of common carbon sources other than glycerol\n",
    "common_carbon_sources = [\"EX_glc__D_e\", \"EX_fruc_e\", \"EX_mann_e\", \"EX_gal_e\"]\n",
    "for carbon_source in common_carbon_sources:\n",
    "    if carbon_source in model.reactions:\n",
    "        model.reactions.get_by_id(carbon_source).lower_bound = 0\n",
    "\n",
    "# Set glycerol as the only carbon source\n",
    "model.reactions.EX_glyc_e.lower_bound = -1000  # Allow uptake of glycerol"
   ]
  },
  {
   "cell_type": "code",
   "execution_count": 5,
   "metadata": {},
   "outputs": [],
   "source": [
    "# Ensure that no other carbon source are available to the cell\n",
    "for rxn in model.exchanges:\n",
    "    if rxn.id != \"EX_glyc_e\":\n",
    "        rxn.lower_bound = 0"
   ]
  },
  {
   "cell_type": "code",
   "execution_count": 6,
   "metadata": {},
   "outputs": [],
   "source": [
    "model.objective = 'DM_faee'"
   ]
  },
  {
   "cell_type": "code",
   "execution_count": 7,
   "metadata": {},
   "outputs": [],
   "source": [
    "solution = model.optimize()"
   ]
  },
  {
   "cell_type": "code",
   "execution_count": 8,
   "metadata": {},
   "outputs": [
    {
     "name": "stdout",
     "output_type": "stream",
     "text": [
      "FAEE production rate: 1.9219371164457043e-15\n"
     ]
    }
   ],
   "source": [
    "print('FAEE production rate:', solution.objective_value)"
   ]
  },
  {
   "cell_type": "code",
   "execution_count": 9,
   "metadata": {},
   "outputs": [],
   "source": [
    "# Get the glycerol uptake rate\n",
    "glycerol_uptake_rate = solution.fluxes[\"EX_glyc_e\"]"
   ]
  },
  {
   "cell_type": "code",
   "execution_count": 10,
   "metadata": {},
   "outputs": [
    {
     "name": "stdout",
     "output_type": "stream",
     "text": [
      "FAEE yield from glycerol: 2.1012432031111936e-16 mmol/mmol\n"
     ]
    }
   ],
   "source": [
    "faee_yield = solution.objective_value / abs(glycerol_uptake_rate)\n",
    "print(f'FAEE yield from glycerol: {faee_yield} mmol/mmol')"
   ]
  }
 ],
 "metadata": {
  "kernelspec": {
   "display_name": "Python 3 (ipykernel)",
   "language": "python",
   "name": "python3"
  },
  "language_info": {
   "codemirror_mode": {
    "name": "ipython",
    "version": 3
   },
   "file_extension": ".py",
   "mimetype": "text/x-python",
   "name": "python",
   "nbconvert_exporter": "python",
   "pygments_lexer": "ipython3",
   "version": "3.9.1"
  }
 },
 "nbformat": 4,
 "nbformat_minor": 5
}
