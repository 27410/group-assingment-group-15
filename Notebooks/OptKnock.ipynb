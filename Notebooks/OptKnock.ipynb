{
 "cells": [
  {
   "cell_type": "code",
   "execution_count": null,
   "id": "2e3ee7b9",
   "metadata": {},
   "outputs": [],
   "source": [
    "%run model_01.ipynb"
   ]
  },
  {
   "cell_type": "code",
   "execution_count": null,
   "id": "15578ed4",
   "metadata": {},
   "outputs": [],
   "source": [
    "import cameo\n",
    "import cobra\n",
    "from cobra.io import read_sbml_model\n",
    "from cobra import Reaction, Metabolite"
   ]
  },
  {
   "cell_type": "code",
   "execution_count": null,
   "id": "8b4d5d1c",
   "metadata": {},
   "outputs": [],
   "source": [
    "model.solver = 'glpk'\n",
    "essentiality = {}\n",
    "importantgenes = {}\n",
    "targetgenes = {}\n",
    "for gene in model.genes:\n",
    "  with model:\n",
    "    gene.knock_out()\n",
    "    essentiality[gene] = model.slim_optimize(error_value = 0.)\n",
    "    if model.slim_optimize(error_value = 0.) < 0.5:\n",
    "      importantgenes[gene] = model.slim_optimize(error_value = 0.)\n",
    "    else:\n",
    "      targetgenes[gene] = model.slim_optimize(error_value = 0.)"
   ]
  },
  {
   "cell_type": "code",
   "execution_count": null,
   "id": "ab0e5f84",
   "metadata": {},
   "outputs": [],
   "source": [
    "importantreactions = []\n",
    "for gene in importantreactions:\n",
    "  for reaction in gene.reactions:\n",
    "    importantreactions.append(reaction)\n",
    "importantreactions = list(set(importantreactions))"
   ]
  },
  {
   "cell_type": "code",
   "execution_count": null,
   "id": "8277e825",
   "metadata": {},
   "outputs": [],
   "source": [
    "def get_blocked_reactions(model):\n",
    "  fva_res = cobra.flux_analysis.flux_variability_analysis(model, fraction_of_optimum = 0)\n",
    "  blocked = [\n",
    "      model.reactions.get_by_id(reaction) for reaction, row in fva_res.iterrows()\n",
    "      if (round(row[\"minimum\"], 5) == round(row[\"maximum\"],5) == 0)\n",
    "  ]\n",
    "  return blocked"
   ]
  },
  {
   "cell_type": "code",
   "execution_count": null,
   "id": "11740dfc",
   "metadata": {},
   "outputs": [],
   "source": [
    "blockedreactions = get_blocked_reactions(model)"
   ]
  },
  {
   "cell_type": "code",
   "execution_count": null,
   "id": "73e0e105",
   "metadata": {},
   "outputs": [],
   "source": [
    "cleaneduplist = [x.id for x in importantreactions if x not in blockedreactions]"
   ]
  },
  {
   "cell_type": "code",
   "execution_count": null,
   "id": "ee7aa896",
   "metadata": {},
   "outputs": [],
   "source": [
    "from cameo.strain_design.deterministic import OptKnock"
   ]
  },
  {
   "cell_type": "markdown",
   "id": "d1e0425c",
   "metadata": {},
   "source": [
    "The model objective is set to be DM_faee, which is the biodiesel metabolite which is the end-product we want to produce."
   ]
  },
  {
   "cell_type": "code",
   "execution_count": null,
   "id": "708ddf0a",
   "metadata": {},
   "outputs": [],
   "source": [
    "model.objective = model.reactions.DM_faee\n",
    "model.reactions.BIOMASS_Ec_iML1515_core_75p37M.lower_bound = 0.045"
   ]
  },
  {
   "cell_type": "code",
   "execution_count": null,
   "id": "c0b421d3",
   "metadata": {},
   "outputs": [],
   "source": [
    "optknock = OptKnock(model, fraction_of_optimum = 0.1, exclude_reactions = cleaneduplist)"
   ]
  },
  {
   "cell_type": "code",
   "execution_count": null,
   "id": "9a1b232d",
   "metadata": {},
   "outputs": [],
   "source": [
    "result = optknock.run(max_knockouts=5, target=\"DM_faee\", biomass=\"BIOMASS_Ec_iML1515_core_75p37M\")"
   ]
  },
  {
   "cell_type": "code",
   "execution_count": null,
   "id": "ee67eb54",
   "metadata": {
    "scrolled": true
   },
   "outputs": [],
   "source": [
    "result"
   ]
  },
  {
   "cell_type": "markdown",
   "id": "6fcc4334",
   "metadata": {},
   "source": [
    "The OptKnock identified ECAP1pp, S2FE2ST, ACGAMK, ACPPAT180 and AP4AH reaction targets for knockout in order to improve the biodiesel yield. Therefore the maximum flow of biodiesel is calculated to assess the reaction targets."
   ]
  },
  {
   "cell_type": "code",
<<<<<<< HEAD
   "execution_count": null,
=======
   "execution_count": 2,
>>>>>>> 84a7631781319ccb0c448d60c768b0af8b14e73a
   "id": "4813fb1f",
   "metadata": {
    "scrolled": true
   },
<<<<<<< HEAD
   "outputs": [],
=======
   "outputs": [
    {
     "name": "stdout",
     "output_type": "stream",
     "text": [
      "Maximum yield:  0.876997214426957\n",
      "Maximum biodiesel flow:  1.0523360569872318\n"
     ]
    }
   ],
>>>>>>> 84a7631781319ccb0c448d60c768b0af8b14e73a
   "source": [
    "with model:\n",
    "    print(\"Maximum yield: \",model.optimize().objective_value)\n",
    "    model.objective = model.reactions.DM_faee\n",
    "    print(\"Maximum biodiesel flow: \",model.optimize().objective_value)"
   ]
  },
  {
   "cell_type": "code",
<<<<<<< HEAD
   "execution_count": null,
   "id": "ba42a0ea",
   "metadata": {},
   "outputs": [],
=======
   "execution_count": 3,
   "id": "ba42a0ea",
   "metadata": {},
   "outputs": [
    {
     "name": "stdout",
     "output_type": "stream",
     "text": [
      "Maximum yield:  0.8769972144269822\n",
      "Maximum biodiesel flow:  1.0523360569872209\n"
     ]
    }
   ],
>>>>>>> 84a7631781319ccb0c448d60c768b0af8b14e73a
   "source": [
    "with model:\n",
    "    model.reactions.ECAP1pp.bounds = 0,0\n",
    "    print(\"Maximum yield: \",model.optimize().objective_value)\n",
    "    model.objective = model.reactions.DM_faee \n",
    "    print(\"Maximum biodiesel flow: \",model.optimize().objective_value)"
   ]
  },
  {
   "cell_type": "code",
<<<<<<< HEAD
   "execution_count": null,
   "id": "c8ab356a",
   "metadata": {},
   "outputs": [],
=======
   "execution_count": 4,
   "id": "c8ab356a",
   "metadata": {},
   "outputs": [
    {
     "name": "stdout",
     "output_type": "stream",
     "text": [
      "Maximum yield:  0.8769972144270035\n",
      "Maximum biodiesel flow:  1.052336056987218\n"
     ]
    }
   ],
>>>>>>> 84a7631781319ccb0c448d60c768b0af8b14e73a
   "source": [
    "with model:\n",
    "    model.reactions.S2FE2ST.bounds = 0,0\n",
    "    print(\"Maximum yield: \",model.optimize().objective_value)\n",
    "    model.objective = model.reactions.DM_faee \n",
    "    print(\"Maximum biodiesel flow: \",model.optimize().objective_value)"
   ]
  },
  {
   "cell_type": "code",
<<<<<<< HEAD
   "execution_count": null,
   "id": "db5055b0",
   "metadata": {},
   "outputs": [],
=======
   "execution_count": 5,
   "id": "db5055b0",
   "metadata": {},
   "outputs": [
    {
     "name": "stdout",
     "output_type": "stream",
     "text": [
      "Maximum yield:  0.8769972144269969\n",
      "Maximum biodiesel flow:  1.052336056987233\n"
     ]
    }
   ],
>>>>>>> 84a7631781319ccb0c448d60c768b0af8b14e73a
   "source": [
    "with model:\n",
    "    model.reactions.ACGAMK.bounds = 0,0\n",
    "    print(\"Maximum yield: \",model.optimize().objective_value)\n",
    "    model.objective = model.reactions.DM_faee \n",
    "    print(\"Maximum biodiesel flow: \",model.optimize().objective_value)"
   ]
  },
  {
   "cell_type": "code",
<<<<<<< HEAD
   "execution_count": null,
   "id": "e9b4e7fb",
   "metadata": {},
   "outputs": [],
=======
   "execution_count": 6,
   "id": "e9b4e7fb",
   "metadata": {},
   "outputs": [
    {
     "name": "stdout",
     "output_type": "stream",
     "text": [
      "Maximum yield:  0.8769972144269528\n",
      "Maximum biodiesel flow:  1.0523360569872255\n"
     ]
    }
   ],
>>>>>>> 84a7631781319ccb0c448d60c768b0af8b14e73a
   "source": [
    "with model:\n",
    "    model.reactions.ACPPAT180.bounds = 0,0\n",
    "    print(\"Maximum yield: \",model.optimize().objective_value)\n",
    "    model.objective = model.reactions.DM_faee \n",
    "    print(\"Maximum biodiesel flow: \",model.optimize().objective_value)"
   ]
  },
  {
   "cell_type": "code",
<<<<<<< HEAD
   "execution_count": null,
   "id": "16c58adc",
   "metadata": {},
   "outputs": [],
=======
   "execution_count": 7,
   "id": "16c58adc",
   "metadata": {},
   "outputs": [
    {
     "name": "stdout",
     "output_type": "stream",
     "text": [
      "Maximum yield:  0.8769972144269779\n",
      "Maximum biodiesel flow:  1.0523360569872118\n"
     ]
    }
   ],
>>>>>>> 84a7631781319ccb0c448d60c768b0af8b14e73a
   "source": [
    "with model:\n",
    "    model.reactions.AP4AH.bounds = 0,0\n",
    "    print(\"Maximum yield: \",model.optimize().objective_value)\n",
    "    model.objective = model.reactions.DM_faee \n",
    "    print(\"Maximum biodiesel flow: \",model.optimize().objective_value)"
   ]
  },
  {
   "cell_type": "markdown",
   "id": "938861f9",
   "metadata": {},
   "source": [
    "The OptKnock performed in the model identified the target reactions ECAP1pp, S2FE2ST, ACGAMK, ACPPAT180 and AP4AH, for improved yield of biodiesel. The maximum yield of biodiesel slightly improves when knocking out the reaction ACGAMK, whereas the maximum yield, slighty deteriorates with the rest of the reactions."
   ]
<<<<<<< HEAD
  },
  {
   "cell_type": "code",
   "execution_count": null,
   "id": "9b66d0ce",
   "metadata": {
    "collapsed": true,
    "jupyter": {
     "outputs_hidden": true
    }
   },
   "outputs": [],
   "source": []
=======
>>>>>>> 84a7631781319ccb0c448d60c768b0af8b14e73a
  }
 ],
 "metadata": {
  "kernelspec": {
   "display_name": "Python 3 (ipykernel)",
   "language": "python",
   "name": "python3"
  },
  "language_info": {
   "codemirror_mode": {
    "name": "ipython",
    "version": 3
   },
   "file_extension": ".py",
   "mimetype": "text/x-python",
   "name": "python",
   "nbconvert_exporter": "python",
   "pygments_lexer": "ipython3",
   "version": "3.11.5"
  }
 },
 "nbformat": 4,
 "nbformat_minor": 5
}
